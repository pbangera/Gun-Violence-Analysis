{
 "cells": [
  {
   "cell_type": "markdown",
   "metadata": {},
   "source": [
    "# Gun violence cases in the United States of Ameria"
   ]
  },
  {
   "cell_type": "markdown",
   "metadata": {},
   "source": [
    "According to CDC, \"One person is killed by a firearms every 17 minutes, 87 people are killed during an average day, and 609 are killed every week”(CDC). Gun violence has become one of the biggest problems in the history of the country. The alarming mortality rate as well as how frequenctly the crime occurs has made it a focus during every election but we have still failed to solve or even address this problem propery."
   ]
  },
  {
   "cell_type": "code",
   "execution_count": 1,
   "metadata": {},
   "outputs": [
    {
     "ename": "ImportError",
     "evalue": "\n\nIMPORTANT: PLEASE READ THIS FOR ADVICE ON HOW TO SOLVE THIS ISSUE!\n\nImporting the numpy c-extensions failed.\n- Try uninstalling and reinstalling numpy.\n- If you have already done that, then:\n  1. Check that you expected to use Python3.6 from \"/Users/pradyumnbangera/Desktop/final/env/bin/python3\",\n     and that you have no directories in your PATH or PYTHONPATH that can\n     interfere with the Python and numpy version \"1.17.4\" you're trying to use.\n  2. If (1) looks fine, you can open a new issue at\n     https://github.com/numpy/numpy/issues.  Please include details on:\n     - how you installed Python\n     - how you installed numpy\n     - your operating system\n     - whether or not you have multiple versions of Python installed\n     - if you built from source, your compiler versions and ideally a build log\n\n- If you're working with a numpy git repository, try `git clean -xdf`\n  (removes all files not under version control) and rebuild numpy.\n\nNote: this error has many possible causes, so please don't comment on\nan existing issue about this - open a new one instead.\n\nOriginal error was: No module named 'numpy.core._multiarray_umath'\n",
     "output_type": "error",
     "traceback": [
      "\u001b[0;31m---------------------------------------------------------------------------\u001b[0m",
      "\u001b[0;31mModuleNotFoundError\u001b[0m                       Traceback (most recent call last)",
      "\u001b[0;32m~/Desktop/final/env/lib/python3.6/site-packages/numpy/core/__init__.py\u001b[0m in \u001b[0;36m<module>\u001b[0;34m\u001b[0m\n\u001b[1;32m     16\u001b[0m \u001b[0;32mtry\u001b[0m\u001b[0;34m:\u001b[0m\u001b[0;34m\u001b[0m\u001b[0m\n\u001b[0;32m---> 17\u001b[0;31m     \u001b[0;32mfrom\u001b[0m \u001b[0;34m.\u001b[0m \u001b[0;32mimport\u001b[0m \u001b[0mmultiarray\u001b[0m\u001b[0;34m\u001b[0m\u001b[0m\n\u001b[0m\u001b[1;32m     18\u001b[0m \u001b[0;32mexcept\u001b[0m \u001b[0mImportError\u001b[0m \u001b[0;32mas\u001b[0m \u001b[0mexc\u001b[0m\u001b[0;34m:\u001b[0m\u001b[0;34m\u001b[0m\u001b[0m\n",
      "\u001b[0;32m~/Desktop/final/env/lib/python3.6/site-packages/numpy/core/multiarray.py\u001b[0m in \u001b[0;36m<module>\u001b[0;34m\u001b[0m\n\u001b[1;32m     13\u001b[0m \u001b[0;34m\u001b[0m\u001b[0m\n\u001b[0;32m---> 14\u001b[0;31m \u001b[0;32mfrom\u001b[0m \u001b[0;34m.\u001b[0m \u001b[0;32mimport\u001b[0m \u001b[0moverrides\u001b[0m\u001b[0;34m\u001b[0m\u001b[0m\n\u001b[0m\u001b[1;32m     15\u001b[0m \u001b[0;32mfrom\u001b[0m \u001b[0;34m.\u001b[0m \u001b[0;32mimport\u001b[0m \u001b[0m_multiarray_umath\u001b[0m\u001b[0;34m\u001b[0m\u001b[0m\n",
      "\u001b[0;32m~/Desktop/final/env/lib/python3.6/site-packages/numpy/core/overrides.py\u001b[0m in \u001b[0;36m<module>\u001b[0;34m\u001b[0m\n\u001b[1;32m      6\u001b[0m \u001b[0;34m\u001b[0m\u001b[0m\n\u001b[0;32m----> 7\u001b[0;31m from numpy.core._multiarray_umath import (\n\u001b[0m\u001b[1;32m      8\u001b[0m     add_docstring, implement_array_function, _get_implementing_args)\n",
      "\u001b[0;31mModuleNotFoundError\u001b[0m: No module named 'numpy.core._multiarray_umath'",
      "\nDuring handling of the above exception, another exception occurred:\n",
      "\u001b[0;31mImportError\u001b[0m                               Traceback (most recent call last)",
      "\u001b[0;32m<ipython-input-1-a7f04829d62b>\u001b[0m in \u001b[0;36m<module>\u001b[0;34m\u001b[0m\n\u001b[1;32m      1\u001b[0m \u001b[0;31m# !pip install folium\u001b[0m\u001b[0;34m\u001b[0m\u001b[0;34m\u001b[0m\u001b[0m\n\u001b[0;32m----> 2\u001b[0;31m \u001b[0;32mimport\u001b[0m \u001b[0mnumpy\u001b[0m \u001b[0;32mas\u001b[0m \u001b[0mnp\u001b[0m\u001b[0;34m\u001b[0m\u001b[0m\n\u001b[0m\u001b[1;32m      3\u001b[0m \u001b[0;32mimport\u001b[0m \u001b[0mpandas\u001b[0m \u001b[0;32mas\u001b[0m \u001b[0mpd\u001b[0m\u001b[0;34m\u001b[0m\u001b[0m\n\u001b[1;32m      4\u001b[0m \u001b[0;32mimport\u001b[0m \u001b[0mmatplotlib\u001b[0m\u001b[0;34m.\u001b[0m\u001b[0mpyplot\u001b[0m \u001b[0;32mas\u001b[0m \u001b[0mplt\u001b[0m\u001b[0;34m\u001b[0m\u001b[0m\n\u001b[1;32m      5\u001b[0m \u001b[0;32mimport\u001b[0m \u001b[0mdatetime\u001b[0m\u001b[0;34m\u001b[0m\u001b[0m\n",
      "\u001b[0;32m~/Desktop/final/env/lib/python3.6/site-packages/numpy/__init__.py\u001b[0m in \u001b[0;36m<module>\u001b[0;34m\u001b[0m\n\u001b[1;32m    140\u001b[0m     \u001b[0;32mfrom\u001b[0m \u001b[0;34m.\u001b[0m \u001b[0;32mimport\u001b[0m \u001b[0m_distributor_init\u001b[0m\u001b[0;34m\u001b[0m\u001b[0m\n\u001b[1;32m    141\u001b[0m \u001b[0;34m\u001b[0m\u001b[0m\n\u001b[0;32m--> 142\u001b[0;31m     \u001b[0;32mfrom\u001b[0m \u001b[0;34m.\u001b[0m \u001b[0;32mimport\u001b[0m \u001b[0mcore\u001b[0m\u001b[0;34m\u001b[0m\u001b[0m\n\u001b[0m\u001b[1;32m    143\u001b[0m     \u001b[0;32mfrom\u001b[0m \u001b[0;34m.\u001b[0m\u001b[0mcore\u001b[0m \u001b[0;32mimport\u001b[0m \u001b[0;34m*\u001b[0m\u001b[0;34m\u001b[0m\u001b[0m\n\u001b[1;32m    144\u001b[0m     \u001b[0;32mfrom\u001b[0m \u001b[0;34m.\u001b[0m \u001b[0;32mimport\u001b[0m \u001b[0mcompat\u001b[0m\u001b[0;34m\u001b[0m\u001b[0m\n",
      "\u001b[0;32m~/Desktop/final/env/lib/python3.6/site-packages/numpy/core/__init__.py\u001b[0m in \u001b[0;36m<module>\u001b[0;34m\u001b[0m\n\u001b[1;32m     45\u001b[0m \"\"\" % (sys.version_info[0], sys.version_info[1], sys.executable,\n\u001b[1;32m     46\u001b[0m         __version__, exc)\n\u001b[0;32m---> 47\u001b[0;31m     \u001b[0;32mraise\u001b[0m \u001b[0mImportError\u001b[0m\u001b[0;34m(\u001b[0m\u001b[0mmsg\u001b[0m\u001b[0;34m)\u001b[0m\u001b[0;34m\u001b[0m\u001b[0m\n\u001b[0m\u001b[1;32m     48\u001b[0m \u001b[0;32mfinally\u001b[0m\u001b[0;34m:\u001b[0m\u001b[0;34m\u001b[0m\u001b[0m\n\u001b[1;32m     49\u001b[0m     \u001b[0;32mfor\u001b[0m \u001b[0menvkey\u001b[0m \u001b[0;32min\u001b[0m \u001b[0menv_added\u001b[0m\u001b[0;34m:\u001b[0m\u001b[0;34m\u001b[0m\u001b[0m\n",
      "\u001b[0;31mImportError\u001b[0m: \n\nIMPORTANT: PLEASE READ THIS FOR ADVICE ON HOW TO SOLVE THIS ISSUE!\n\nImporting the numpy c-extensions failed.\n- Try uninstalling and reinstalling numpy.\n- If you have already done that, then:\n  1. Check that you expected to use Python3.6 from \"/Users/pradyumnbangera/Desktop/final/env/bin/python3\",\n     and that you have no directories in your PATH or PYTHONPATH that can\n     interfere with the Python and numpy version \"1.17.4\" you're trying to use.\n  2. If (1) looks fine, you can open a new issue at\n     https://github.com/numpy/numpy/issues.  Please include details on:\n     - how you installed Python\n     - how you installed numpy\n     - your operating system\n     - whether or not you have multiple versions of Python installed\n     - if you built from source, your compiler versions and ideally a build log\n\n- If you're working with a numpy git repository, try `git clean -xdf`\n  (removes all files not under version control) and rebuild numpy.\n\nNote: this error has many possible causes, so please don't comment on\nan existing issue about this - open a new one instead.\n\nOriginal error was: No module named 'numpy.core._multiarray_umath'\n"
     ]
    }
   ],
   "source": [
    "# !pip install folium\n",
    "import numpy as np\n",
    "import pandas as pd\n",
    "import matplotlib.pyplot as plt\n",
    "import datetime\n",
    "import folium\n",
    "import requests\n",
    "import random\n",
    "from folium.map import *\n",
    "from folium import plugins\n",
    "from folium.plugins import MeasureControl\n",
    "from folium.plugins import FloatImage\n",
    "\n"
   ]
  },
  {
   "cell_type": "markdown",
   "metadata": {},
   "source": [
    "# Cleaning data: Removing NaN value from latitude and longitude"
   ]
  },
  {
   "cell_type": "code",
   "execution_count": null,
   "metadata": {},
   "outputs": [],
   "source": [
    "# print(pd.__version__)\n",
    "data = pd.read_csv(\"gun-violence-data_01-2013_03-2018.csv\")\n",
    "# print(len(data))\n",
    "data = data[pd.notnull(data.latitude)]\n",
    "data = data[pd.notnull(data.longitude)]\n",
    "# print(len(data))\n",
    "data.head()"
   ]
  },
  {
   "cell_type": "markdown",
   "metadata": {},
   "source": [
    "# Plotting the crime data on the map"
   ]
  },
  {
   "cell_type": "markdown",
   "metadata": {},
   "source": [
    "Here we have just used the latitude and logitude values from every gun violence case and plotted them on the folium graph using circle markers for a good idea about how these gun violence crimes are distributed throughout the entire country."
   ]
  },
  {
   "cell_type": "code",
   "execution_count": null,
   "metadata": {
    "scrolled": true
   },
   "outputs": [],
   "source": [
    "from folium.plugins import FastMarkerCluster\n",
    "map_osm = folium.Map(location=[48, -102], zoom_start=4)\n",
    "counter = 0\n",
    "ct= 0 \n",
    "sam = data.sample(3500)\n",
    "FastMarkerCluster(data = list(zip(sam['latitude'].values, sam['longitude'].values))).add_to(map_osm)\n",
    "for index,loc in sam.iterrows():\n",
    "\n",
    "        if(pd.notnull(loc[14]) and pd.notnull(loc[16])):\n",
    "            latlong = [loc[14], loc[16]]\n",
    "        folium.CircleMarker(location=latlong, radius=8, fill_opacity=.5, fill=True).add_to(map_osm)\n",
    "folium.LayerControl().add_to(map_osm)\n",
    "    \n",
    "map_osm"
   ]
  },
  {
   "cell_type": "markdown",
   "metadata": {},
   "source": [
    "# Cleaning data: Splitting dates for better acessibillity and Plotting total gun violence cases in every year"
   ]
  },
  {
   "cell_type": "markdown",
   "metadata": {},
   "source": [
    "In the following piece of code, we have just worked on tidying and scraping the data required which in this case is \n",
    "splitting month into 3 different columns of month year and day so that we can access it more easily. We have further used \n",
    "it to acquire the frequency of gun violence crimes over the different years so that we can get an idea about \n",
    "whether we have had a yearlly incline or decline."
   ]
  },
  {
   "cell_type": "code",
   "execution_count": null,
   "metadata": {},
   "outputs": [],
   "source": [
    "# !pip install seaborn\n",
    "import collections\n",
    "import seaborn as sns\n",
    "year = []\n",
    "month = []\n",
    "day = []\n",
    "q = []\n",
    "count = 0\n",
    "uniqueyear = {}\n",
    "for index,loc in sam.iterrows():\n",
    "    year.append(int(loc[1].split('-')[0]))\n",
    "    month.append(int(loc[1].split('-')[1]))\n",
    "    day.append(int(loc[1].split('-')[2]))\n",
    "sam['Year'] = year\n",
    "sam['Month'] = month\n",
    "sam['Day'] = day\n",
    "\n",
    "for i in year:\n",
    "    if i not in q:\n",
    "        q.append(i)\n",
    "        uniqueyear[i] = 0\n",
    "        \n",
    "for i in year:\n",
    "    uniqueyear[i] += 1\n",
    "    \n",
    "uniqueyear = collections.OrderedDict(sorted(uniqueyear.items()))\n",
    "\n",
    "f = []\n",
    "y = []\n",
    "for i in uniqueyear:\n",
    "    f.append(uniqueyear[i])\n",
    "    y.append(i)\n",
    "p = pd.DataFrame({'Year' : y , 'frequency' : f})\n",
    "        \n",
    "plt.figure(figsize = (20, 10))\n",
    "ax = sns.barplot(x = p['Year'], y = p['frequency'])\n",
    "ax.set_xticklabels(ax.get_xticklabels(), rotation=40, ha=\"right\",fontsize=20)\n",
    "plt.tight_layout()\n",
    "plt.show()\n",
    "\n",
    "expvyear = p[['Year','frequency']]\n",
    "x = expvyear['year'].values\n",
    "y = expvyear['frequency'].values\n",
    "plt.plot(x, y, 'o')\n",
    "plt.xlabel(\"Year\", fontsize=10)\n",
    "plt.ylabel(\"Frequency\", fontsize=10)\n",
    "plt.show()\n",
    "\n"
   ]
  },
  {
   "cell_type": "markdown",
   "metadata": {},
   "source": [
    "# Plotting the total gun cases against every year"
   ]
  },
  {
   "cell_type": "markdown",
   "metadata": {},
   "source": [
    "In the following plot graph, we have made an effort to plot the respective number of gun violence cases\n",
    "against their respective years, I have done this by initially creating a dictionary that maps each year to\n",
    "the total number of gun violence cases that have happened in that respective year. Eventually i have mapped \n",
    "every key and and its values to different lists. Furthermore, I have then created a pandas dataframe that just \n",
    "has two columns-Year and frequency. Using the dataframe, I have plotted the columns on the X and Y axis \n",
    "using Matplotlib to give us a good idea of how variable gun violence has been over the years between 2013\n",
    "and 2018."
   ]
  },
  {
   "cell_type": "code",
   "execution_count": null,
   "metadata": {},
   "outputs": [],
   "source": [
    "fig, ax = plt.subplots(figsize=(6,6))\n",
    "\n",
    "\n",
    "\n",
    "p.plot(x = 'Year', y = 'frequency', ax = ax)\n",
    "plt.ylabel('Frequency')\n",
    "ax.set_xlim([2013,2018])\n",
    "plt.show()"
   ]
  },
  {
   "cell_type": "code",
   "execution_count": null,
   "metadata": {
    "scrolled": true
   },
   "outputs": [],
   "source": [
    "from mapboxgl.utils import *\n",
    "from mapboxgl.viz import *\n",
    "\n",
    "token = os.getenv('MAPBOX_ACCESS_TOKEN')\n",
    "print(sam['longitude'])\n",
    "# Create a geojson Feature Collection export from a Pandas dataframe\n",
    "points = df_to_geojson(sam, properties = None, lat='latitude', lon='longitude', precision=3)\n",
    "\n",
    "#Create a heatmap\n",
    "heatmap_color_stops = create_color_stops([0.01,0.25,0.5,0.75,1], colors='RdPu')\n",
    "heatmap_radius_stops = [[0,1], [15, 40]] #increase radius with zoom\n",
    "\n",
    "color_breaks = [0,10,100,1000,10000]\n",
    "color_stops = create_color_stops(color_breaks, colors='Spectral')\n",
    "\n",
    "heatmap_weight_stops = create_weight_stops(color_breaks)\n",
    "\n",
    "#Create a heatmap\n",
    "viz = HeatmapViz(points,\n",
    "                 access_token=token,\n",
    "                 weight_property= None,\n",
    "                 weight_stops=heatmap_weight_stops,\n",
    "                 color_stops=heatmap_color_stops,\n",
    "                 radius_stops=heatmap_radius_stops,\n",
    "                 opacity=0.9,\n",
    "                 center=(-95, 40),\n",
    "                 zoom=3,\n",
    "                 below_layer='waterway-label')\n",
    "\n",
    "viz.show()"
   ]
  },
  {
   "cell_type": "markdown",
   "metadata": {},
   "source": [
    "# Gun violence data for each state"
   ]
  },
  {
   "cell_type": "markdown",
   "metadata": {},
   "source": [
    "In the following dataset, we have tried to depict the total number of gun violence cases that have taken place in every state in the United States of America. We have done so by counting the total occurences of rows in the data frame with the respective states. Furthermore we have created a dictionary to keep track of this data and later used the dictionary to create a data frame with columns - states and Frequency. We have later plotted the data using a bar plot."
   ]
  },
  {
   "cell_type": "code",
   "execution_count": null,
   "metadata": {},
   "outputs": [],
   "source": [
    "state = []\n",
    "unst = {}\n",
    "for i in sam['state']:\n",
    "    if i not in state:\n",
    "        state.append(i)\n",
    "        unst[i] = 0\n",
    "\n",
    "for i in sam['state']:\n",
    "    unst[i] += 1\n",
    "    \n",
    "unst = collections.OrderedDict(sorted(unst.items()))\n",
    "\n",
    "s = []\n",
    "f = []\n",
    "for i in unst:\n",
    "    f.append(unst[i])\n",
    "    s.append(i)\n",
    "p = pd.DataFrame({'State' : s , 'frequency' : f})\n",
    "\n",
    "    \n",
    "\n",
    "\n",
    "plt.figure(figsize = (20, 10))\n",
    "ax = sns.barplot(x = p['State'], y = p['frequency'])\n",
    "ax.set_xticklabels(ax.get_xticklabels(), rotation=40, ha=\"right\",fontsize=20)\n",
    "plt.tight_layout()\n",
    "plt.show()"
   ]
  },
  {
   "cell_type": "markdown",
   "metadata": {},
   "source": [
    "# Graph to notice trend of incline/decline in each state"
   ]
  },
  {
   "cell_type": "markdown",
   "metadata": {},
   "source": [
    "In the following graph, we have attempted to display the total cases of gun vioilence that have taken place inevery state of the United states of America between the period from 2013 - 2018. In order to do so we created a new panda dataframe that condidted of columns - Year, States, and Frequency/count of gun violence crimes. This dataframe allowed us to present total gun violence crimes in each state in each year in a very concise manner. Later we grouped the data frame by the name of the state and plotted it on the graph."
   ]
  },
  {
   "cell_type": "code",
   "execution_count": null,
   "metadata": {},
   "outputs": [],
   "source": [
    "fig, ax = plt.subplots(figsize=(16,16))\n",
    "# sam = sam.groupby('Year')\n",
    "count2013 = {}\n",
    "count2014 = {}\n",
    "count2015 = {}\n",
    "count2016 = {}\n",
    "count2017 = {}\n",
    "count2018 = {}\n",
    "for i, tabs in sam:\n",
    "    for s in state:\n",
    "#         print(s)\n",
    "        for r in tabs.iterrows():\n",
    "            if s == r[1][2]:\n",
    "                count2013[s] = 0\n",
    "                count2014[s] = 0\n",
    "                count2015[s] = 0\n",
    "                count2016[s] = 0\n",
    "                count2017[s] = 0\n",
    "                count2018[s] = 0\n",
    "                \n",
    "for i, tabs in sam:\n",
    "    if i ==2013:\n",
    "        for s in state:\n",
    "            for r in tabs.iterrows():\n",
    "                if s == r[1][2]:\n",
    "                    count2013[s] += 1\n",
    "                \n",
    "    if i ==2014:\n",
    "        for s in state:\n",
    "            for r in tabs.iterrows():\n",
    "                if s == r[1][2]:\n",
    "                    count2014[s] += 1\n",
    "    if i ==2015:\n",
    "        for s in state:\n",
    "            for r in tabs.iterrows():\n",
    "                if s == r[1][2]:\n",
    "                    count2015[s] += 1\n",
    "    if i ==2016:\n",
    "        for s in state:\n",
    "            for r in tabs.iterrows():\n",
    "                if s == r[1][2]:\n",
    "                    count2016[s] += 1\n",
    "    if i ==2017:\n",
    "        for s in state:\n",
    "            for r in tabs.iterrows():\n",
    "                if s == r[1][2]:\n",
    "                    count2017[s] += 1\n",
    "                    \n",
    "    if i ==2018:\n",
    "        for s in state:\n",
    "            for r in tabs.iterrows():\n",
    "                if s == r[1][2]:\n",
    "                    count2018[s] += 1\n",
    "                    \n",
    "\n",
    "y = []\n",
    "stt = []\n",
    "freq = []\n",
    "\n",
    "\n",
    "\n",
    "for i in count2013:\n",
    "    if count2013[i]>0:\n",
    "        y.append(2013)\n",
    "        stt.append(i)\n",
    "        freq.append(count2013[i])\n",
    "        \n",
    "for i in count2014:\n",
    "    if count2014[i]>0:\n",
    "        y.append(2014)\n",
    "        stt.append(i)\n",
    "        freq.append(count2014[i])\n",
    "    \n",
    "for i in count2015:\n",
    "    if count2015[i]>0:\n",
    "        y.append(2015)\n",
    "        stt.append(i)\n",
    "        freq.append(count2015[i])\n",
    "        \n",
    "for i in count2016:\n",
    "    if count2016[i]>0:\n",
    "        y.append(2016)\n",
    "        stt.append(i)\n",
    "        freq.append(count2016[i])\n",
    "        \n",
    "        \n",
    "for i in count2017:\n",
    "    if count2017[i]>0:\n",
    "        y.append(2017)\n",
    "        stt.append(i)\n",
    "        freq.append(count2017[i])\n",
    "        \n",
    "        \n",
    "for i in count2018:\n",
    "    if count2014[i]>0:\n",
    "        y.append(2018)\n",
    "        stt.append(i)\n",
    "        freq.append(count2018[i])\n",
    "        \n",
    "    \n",
    "df = pd.DataFrame({'Year':y, 'State':stt,'Frequency':freq})\n",
    "    \n",
    "\n",
    "probtwo = df.groupby('State')\n",
    "for stateName, tabs in probtwo:\n",
    "    tabs.plot(x = 'Year', y = 'Frequency', ax = ax, label = stateName)\n",
    "plt.ylabel('Frequency')\n",
    "plt.xlabel('Year')\n",
    "ax.set_xlim([2013,2018])\n",
    "plt.show()"
   ]
  },
  {
   "cell_type": "code",
   "execution_count": null,
   "metadata": {},
   "outputs": [],
   "source": []
  }
 ],
 "metadata": {
  "kernelspec": {
   "display_name": "Python 3",
   "language": "python",
   "name": "python3"
  },
  "language_info": {
   "codemirror_mode": {
    "name": "ipython",
    "version": 3
   },
   "file_extension": ".py",
   "mimetype": "text/x-python",
   "name": "python",
   "nbconvert_exporter": "python",
   "pygments_lexer": "ipython3",
   "version": "3.6.4"
  }
 },
 "nbformat": 4,
 "nbformat_minor": 2
}
